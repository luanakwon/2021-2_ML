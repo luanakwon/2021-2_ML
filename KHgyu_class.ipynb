{
  "nbformat": 4,
  "nbformat_minor": 0,
  "metadata": {
    "colab": {
      "name": "KHgyu_class.ipynb",
      "provenance": [],
      "collapsed_sections": [],
      "authorship_tag": "ABX9TyOKfY04OvNQIVlMO+Tk1Oh9",
      "include_colab_link": true
    },
    "kernelspec": {
      "name": "python3",
      "display_name": "Python 3"
    },
    "language_info": {
      "name": "python"
    }
  },
  "cells": [
    {
      "cell_type": "markdown",
      "metadata": {
        "id": "view-in-github",
        "colab_type": "text"
      },
      "source": [
        "<a href=\"https://colab.research.google.com/github/luanakwon/2021-2_ML/blob/main/KHgyu_class.ipynb\" target=\"_parent\"><img src=\"https://colab.research.google.com/assets/colab-badge.svg\" alt=\"Open In Colab\"/></a>"
      ]
    },
    {
      "cell_type": "code",
      "metadata": {
        "id": "x3yvLg-_OknZ"
      },
      "source": [
        "# B811011 권준현 midterm \n",
        "!pip install turicreate\n",
        "import numpy as np\n",
        "import turicreate as tc"
      ],
      "execution_count": null,
      "outputs": []
    },
    {
      "cell_type": "markdown",
      "metadata": {
        "id": "sVYlHOuTMHxo"
      },
      "source": [
        "(a)"
      ]
    },
    {
      "cell_type": "code",
      "metadata": {
        "id": "ehdp6c4LTnrk",
        "colab": {
          "base_uri": "https://localhost:8080/"
        },
        "outputId": "f2be293c-0515-4b52-a1a4-24920e11942f"
      },
      "source": [
        "# my own set of weights w0 ~ w10\n",
        "weights = np.array([1,4,1,5,9,2,6,5,3,5,8])\n",
        "\n",
        "# generated actual input data\n",
        "# random uniform between 0 and 10\n",
        "np.random.seed(0)\n",
        "data_x = np.random.uniform(0,10,size=(1000,10))\n",
        "\n",
        "print(data_x)\n",
        "print(data_x.shape)\n",
        "\n",
        "# Y data for these input data\n",
        "# small random variation to imply noise\n",
        "rdm_w = np.matmul(np.ones((1000,1)),np.reshape(weights,(1,11)))\n",
        "rdm_w += np.random.normal(0,0.5,size=(1000,11))\n",
        "data_y = np.sum(data_x*rdm_w[:,1:], axis=1) + rdm_w[:,0]\n",
        "\n",
        "# print(data_y)\n",
        "print(data_y.shape)"
      ],
      "execution_count": null,
      "outputs": [
        {
          "output_type": "stream",
          "name": "stdout",
          "text": [
            "[[5.48813504 7.15189366 6.02763376 ... 8.91773001 9.63662761 3.83441519]\n",
            " [7.91725038 5.2889492  5.68044561 ... 8.32619846 7.78156751 8.70012148]\n",
            " [9.78618342 7.99158564 4.61479362 ... 9.44668917 5.21848322 4.1466194 ]\n",
            " ...\n",
            " [4.09316583 8.16221102 0.11549241 ... 3.76742895 6.9770858  8.48420392]\n",
            " [4.78316574 8.46360039 5.48319338 ... 7.65341815 5.2550272  9.91043203]\n",
            " [6.94983329 1.94606892 1.14036759 ... 7.58429521 0.23787427 8.1357508 ]]\n",
            "(1000, 10)\n",
            "(1000,)\n"
          ]
        }
      ]
    },
    {
      "cell_type": "code",
      "metadata": {
        "colab": {
          "base_uri": "https://localhost:8080/",
          "height": 718
        },
        "id": "UUSjmtMTtlep",
        "outputId": "81d462c0-337c-4e84-abc3-26c500c23ba1"
      },
      "source": [
        "data = tc.SFrame()\n",
        "for i in range(10):\n",
        "  data['x'+str(i+1)] = data_x[:,i]\n",
        "data['y'] = data_y\n",
        "\n",
        "data"
      ],
      "execution_count": null,
      "outputs": [
        {
          "output_type": "execute_result",
          "data": {
            "text/html": [
              "<div style=\"max-height:1000px;max-width:1500px;overflow:auto;\"><table frame=\"box\" rules=\"cols\">\n",
              "    <tr>\n",
              "        <th style=\"padding-left: 1em; padding-right: 1em; text-align: center\">x1</th>\n",
              "        <th style=\"padding-left: 1em; padding-right: 1em; text-align: center\">x2</th>\n",
              "        <th style=\"padding-left: 1em; padding-right: 1em; text-align: center\">x3</th>\n",
              "        <th style=\"padding-left: 1em; padding-right: 1em; text-align: center\">x4</th>\n",
              "        <th style=\"padding-left: 1em; padding-right: 1em; text-align: center\">x5</th>\n",
              "    </tr>\n",
              "    <tr>\n",
              "        <td style=\"padding-left: 1em; padding-right: 1em; text-align: center; vertical-align: top\">5.4881350392732475</td>\n",
              "        <td style=\"padding-left: 1em; padding-right: 1em; text-align: center; vertical-align: top\">7.151893663724195</td>\n",
              "        <td style=\"padding-left: 1em; padding-right: 1em; text-align: center; vertical-align: top\">6.027633760716439</td>\n",
              "        <td style=\"padding-left: 1em; padding-right: 1em; text-align: center; vertical-align: top\">5.448831829968968</td>\n",
              "        <td style=\"padding-left: 1em; padding-right: 1em; text-align: center; vertical-align: top\">4.236547993389047</td>\n",
              "    </tr>\n",
              "    <tr>\n",
              "        <td style=\"padding-left: 1em; padding-right: 1em; text-align: center; vertical-align: top\">7.917250380826646</td>\n",
              "        <td style=\"padding-left: 1em; padding-right: 1em; text-align: center; vertical-align: top\">5.288949197529044</td>\n",
              "        <td style=\"padding-left: 1em; padding-right: 1em; text-align: center; vertical-align: top\">5.680445610939323</td>\n",
              "        <td style=\"padding-left: 1em; padding-right: 1em; text-align: center; vertical-align: top\">9.25596638292661</td>\n",
              "        <td style=\"padding-left: 1em; padding-right: 1em; text-align: center; vertical-align: top\">0.7103605819788694</td>\n",
              "    </tr>\n",
              "    <tr>\n",
              "        <td style=\"padding-left: 1em; padding-right: 1em; text-align: center; vertical-align: top\">9.78618342232764</td>\n",
              "        <td style=\"padding-left: 1em; padding-right: 1em; text-align: center; vertical-align: top\">7.9915856421672355</td>\n",
              "        <td style=\"padding-left: 1em; padding-right: 1em; text-align: center; vertical-align: top\">4.6147936225293185</td>\n",
              "        <td style=\"padding-left: 1em; padding-right: 1em; text-align: center; vertical-align: top\">7.805291762864554</td>\n",
              "        <td style=\"padding-left: 1em; padding-right: 1em; text-align: center; vertical-align: top\">1.1827442586893322</td>\n",
              "    </tr>\n",
              "    <tr>\n",
              "        <td style=\"padding-left: 1em; padding-right: 1em; text-align: center; vertical-align: top\">2.64555612104627</td>\n",
              "        <td style=\"padding-left: 1em; padding-right: 1em; text-align: center; vertical-align: top\">7.742336894342166</td>\n",
              "        <td style=\"padding-left: 1em; padding-right: 1em; text-align: center; vertical-align: top\">4.5615033221654855</td>\n",
              "        <td style=\"padding-left: 1em; padding-right: 1em; text-align: center; vertical-align: top\">5.684339488686485</td>\n",
              "        <td style=\"padding-left: 1em; padding-right: 1em; text-align: center; vertical-align: top\">0.18789800436355142</td>\n",
              "    </tr>\n",
              "    <tr>\n",
              "        <td style=\"padding-left: 1em; padding-right: 1em; text-align: center; vertical-align: top\">3.59507900573786</td>\n",
              "        <td style=\"padding-left: 1em; padding-right: 1em; text-align: center; vertical-align: top\">4.3703195379934145</td>\n",
              "        <td style=\"padding-left: 1em; padding-right: 1em; text-align: center; vertical-align: top\">6.976311959272649</td>\n",
              "        <td style=\"padding-left: 1em; padding-right: 1em; text-align: center; vertical-align: top\">0.6022547162926983</td>\n",
              "        <td style=\"padding-left: 1em; padding-right: 1em; text-align: center; vertical-align: top\">6.667667154456677</td>\n",
              "    </tr>\n",
              "    <tr>\n",
              "        <td style=\"padding-left: 1em; padding-right: 1em; text-align: center; vertical-align: top\">5.701967704178797</td>\n",
              "        <td style=\"padding-left: 1em; padding-right: 1em; text-align: center; vertical-align: top\">4.386015134623204</td>\n",
              "        <td style=\"padding-left: 1em; padding-right: 1em; text-align: center; vertical-align: top\">9.883738380592263</td>\n",
              "        <td style=\"padding-left: 1em; padding-right: 1em; text-align: center; vertical-align: top\">1.0204481074802807</td>\n",
              "        <td style=\"padding-left: 1em; padding-right: 1em; text-align: center; vertical-align: top\">2.088767560948347</td>\n",
              "    </tr>\n",
              "    <tr>\n",
              "        <td style=\"padding-left: 1em; padding-right: 1em; text-align: center; vertical-align: top\">1.5896958364551972</td>\n",
              "        <td style=\"padding-left: 1em; padding-right: 1em; text-align: center; vertical-align: top\">1.1037514116430513</td>\n",
              "        <td style=\"padding-left: 1em; padding-right: 1em; text-align: center; vertical-align: top\">6.563295894652734</td>\n",
              "        <td style=\"padding-left: 1em; padding-right: 1em; text-align: center; vertical-align: top\">1.381829513486138</td>\n",
              "        <td style=\"padding-left: 1em; padding-right: 1em; text-align: center; vertical-align: top\">1.965823616800535</td>\n",
              "    </tr>\n",
              "    <tr>\n",
              "        <td style=\"padding-left: 1em; padding-right: 1em; text-align: center; vertical-align: top\">9.764594650133958</td>\n",
              "        <td style=\"padding-left: 1em; padding-right: 1em; text-align: center; vertical-align: top\">4.686512016477016</td>\n",
              "        <td style=\"padding-left: 1em; padding-right: 1em; text-align: center; vertical-align: top\">9.767610881903371</td>\n",
              "        <td style=\"padding-left: 1em; padding-right: 1em; text-align: center; vertical-align: top\">6.04845519745046</td>\n",
              "        <td style=\"padding-left: 1em; padding-right: 1em; text-align: center; vertical-align: top\">7.3926357939830165</td>\n",
              "    </tr>\n",
              "    <tr>\n",
              "        <td style=\"padding-left: 1em; padding-right: 1em; text-align: center; vertical-align: top\">3.1798317939397602</td>\n",
              "        <td style=\"padding-left: 1em; padding-right: 1em; text-align: center; vertical-align: top\">4.1426299451467</td>\n",
              "        <td style=\"padding-left: 1em; padding-right: 1em; text-align: center; vertical-align: top\">0.6414749634878436</td>\n",
              "        <td style=\"padding-left: 1em; padding-right: 1em; text-align: center; vertical-align: top\">6.924721193700199</td>\n",
              "        <td style=\"padding-left: 1em; padding-right: 1em; text-align: center; vertical-align: top\">5.666014542065751</td>\n",
              "    </tr>\n",
              "    <tr>\n",
              "        <td style=\"padding-left: 1em; padding-right: 1em; text-align: center; vertical-align: top\">3.1856895245132364</td>\n",
              "        <td style=\"padding-left: 1em; padding-right: 1em; text-align: center; vertical-align: top\">6.674103799636817</td>\n",
              "        <td style=\"padding-left: 1em; padding-right: 1em; text-align: center; vertical-align: top\">1.3179786240439217</td>\n",
              "        <td style=\"padding-left: 1em; padding-right: 1em; text-align: center; vertical-align: top\">7.163272041185655</td>\n",
              "        <td style=\"padding-left: 1em; padding-right: 1em; text-align: center; vertical-align: top\">2.894060929472011</td>\n",
              "    </tr>\n",
              "</table>\n",
              "<table frame=\"box\" rules=\"cols\">\n",
              "    <tr>\n",
              "        <th style=\"padding-left: 1em; padding-right: 1em; text-align: center\">x6</th>\n",
              "        <th style=\"padding-left: 1em; padding-right: 1em; text-align: center\">x7</th>\n",
              "        <th style=\"padding-left: 1em; padding-right: 1em; text-align: center\">x8</th>\n",
              "        <th style=\"padding-left: 1em; padding-right: 1em; text-align: center\">x9</th>\n",
              "        <th style=\"padding-left: 1em; padding-right: 1em; text-align: center\">x10</th>\n",
              "    </tr>\n",
              "    <tr>\n",
              "        <td style=\"padding-left: 1em; padding-right: 1em; text-align: center; vertical-align: top\">6.458941130666561</td>\n",
              "        <td style=\"padding-left: 1em; padding-right: 1em; text-align: center; vertical-align: top\">4.375872112626925</td>\n",
              "        <td style=\"padding-left: 1em; padding-right: 1em; text-align: center; vertical-align: top\">8.917730007820797</td>\n",
              "        <td style=\"padding-left: 1em; padding-right: 1em; text-align: center; vertical-align: top\">9.636627605010293</td>\n",
              "        <td style=\"padding-left: 1em; padding-right: 1em; text-align: center; vertical-align: top\">3.8344151882577773</td>\n",
              "    </tr>\n",
              "    <tr>\n",
              "        <td style=\"padding-left: 1em; padding-right: 1em; text-align: center; vertical-align: top\">0.8712929970154071</td>\n",
              "        <td style=\"padding-left: 1em; padding-right: 1em; text-align: center; vertical-align: top\">0.2021839744032572</td>\n",
              "        <td style=\"padding-left: 1em; padding-right: 1em; text-align: center; vertical-align: top\">8.32619845547938</td>\n",
              "        <td style=\"padding-left: 1em; padding-right: 1em; text-align: center; vertical-align: top\">7.781567509498505</td>\n",
              "        <td style=\"padding-left: 1em; padding-right: 1em; text-align: center; vertical-align: top\">8.700121482468191</td>\n",
              "    </tr>\n",
              "    <tr>\n",
              "        <td style=\"padding-left: 1em; padding-right: 1em; text-align: center; vertical-align: top\">6.399210213275238</td>\n",
              "        <td style=\"padding-left: 1em; padding-right: 1em; text-align: center; vertical-align: top\">1.433532874090464</td>\n",
              "        <td style=\"padding-left: 1em; padding-right: 1em; text-align: center; vertical-align: top\">9.446689170495839</td>\n",
              "        <td style=\"padding-left: 1em; padding-right: 1em; text-align: center; vertical-align: top\">5.218483217500717</td>\n",
              "        <td style=\"padding-left: 1em; padding-right: 1em; text-align: center; vertical-align: top\">4.146619399905235</td>\n",
              "    </tr>\n",
              "    <tr>\n",
              "        <td style=\"padding-left: 1em; padding-right: 1em; text-align: center; vertical-align: top\">6.176354970758771</td>\n",
              "        <td style=\"padding-left: 1em; padding-right: 1em; text-align: center; vertical-align: top\">6.120957227224214</td>\n",
              "        <td style=\"padding-left: 1em; padding-right: 1em; text-align: center; vertical-align: top\">6.169339968747569</td>\n",
              "        <td style=\"padding-left: 1em; padding-right: 1em; text-align: center; vertical-align: top\">9.437480785146242</td>\n",
              "        <td style=\"padding-left: 1em; padding-right: 1em; text-align: center; vertical-align: top\">6.818202991034834</td>\n",
              "    </tr>\n",
              "    <tr>\n",
              "        <td style=\"padding-left: 1em; padding-right: 1em; text-align: center; vertical-align: top\">6.706378696181594</td>\n",
              "        <td style=\"padding-left: 1em; padding-right: 1em; text-align: center; vertical-align: top\">2.103825610738409</td>\n",
              "        <td style=\"padding-left: 1em; padding-right: 1em; text-align: center; vertical-align: top\">1.289262976548533</td>\n",
              "        <td style=\"padding-left: 1em; padding-right: 1em; text-align: center; vertical-align: top\">3.1542835092418384</td>\n",
              "        <td style=\"padding-left: 1em; padding-right: 1em; text-align: center; vertical-align: top\">3.637107709426226</td>\n",
              "    </tr>\n",
              "    <tr>\n",
              "        <td style=\"padding-left: 1em; padding-right: 1em; text-align: center; vertical-align: top\">1.6130951788499626</td>\n",
              "        <td style=\"padding-left: 1em; padding-right: 1em; text-align: center; vertical-align: top\">6.531083254653984</td>\n",
              "        <td style=\"padding-left: 1em; padding-right: 1em; text-align: center; vertical-align: top\">2.532916025397821</td>\n",
              "        <td style=\"padding-left: 1em; padding-right: 1em; text-align: center; vertical-align: top\">4.663107728563062</td>\n",
              "        <td style=\"padding-left: 1em; padding-right: 1em; text-align: center; vertical-align: top\">2.4442559200160274</td>\n",
              "    </tr>\n",
              "    <tr>\n",
              "        <td style=\"padding-left: 1em; padding-right: 1em; text-align: center; vertical-align: top\">3.687251706609641</td>\n",
              "        <td style=\"padding-left: 1em; padding-right: 1em; text-align: center; vertical-align: top\">8.209932298479352</td>\n",
              "        <td style=\"padding-left: 1em; padding-right: 1em; text-align: center; vertical-align: top\">0.9710127579306127</td>\n",
              "        <td style=\"padding-left: 1em; padding-right: 1em; text-align: center; vertical-align: top\">8.379449074988038</td>\n",
              "        <td style=\"padding-left: 1em; padding-right: 1em; text-align: center; vertical-align: top\">0.9609840789396307</td>\n",
              "    </tr>\n",
              "    <tr>\n",
              "        <td style=\"padding-left: 1em; padding-right: 1em; text-align: center; vertical-align: top\">0.39187792254320675</td>\n",
              "        <td style=\"padding-left: 1em; padding-right: 1em; text-align: center; vertical-align: top\">2.828069625764096</td>\n",
              "        <td style=\"padding-left: 1em; padding-right: 1em; text-align: center; vertical-align: top\">1.201965612131689</td>\n",
              "        <td style=\"padding-left: 1em; padding-right: 1em; text-align: center; vertical-align: top\">2.9614019752214493</td>\n",
              "        <td style=\"padding-left: 1em; padding-right: 1em; text-align: center; vertical-align: top\">1.1872771895424405</td>\n",
              "    </tr>\n",
              "    <tr>\n",
              "        <td style=\"padding-left: 1em; padding-right: 1em; text-align: center; vertical-align: top\">2.653894909394454</td>\n",
              "        <td style=\"padding-left: 1em; padding-right: 1em; text-align: center; vertical-align: top\">5.232480534666997</td>\n",
              "        <td style=\"padding-left: 1em; padding-right: 1em; text-align: center; vertical-align: top\">0.9394051075844168</td>\n",
              "        <td style=\"padding-left: 1em; padding-right: 1em; text-align: center; vertical-align: top\">5.759464955561793</td>\n",
              "        <td style=\"padding-left: 1em; padding-right: 1em; text-align: center; vertical-align: top\">9.292961975762141</td>\n",
              "    </tr>\n",
              "    <tr>\n",
              "        <td style=\"padding-left: 1em; padding-right: 1em; text-align: center; vertical-align: top\">1.8319136200711683</td>\n",
              "        <td style=\"padding-left: 1em; padding-right: 1em; text-align: center; vertical-align: top\">5.865129348100831</td>\n",
              "        <td style=\"padding-left: 1em; padding-right: 1em; text-align: center; vertical-align: top\">0.20107546187493552</td>\n",
              "        <td style=\"padding-left: 1em; padding-right: 1em; text-align: center; vertical-align: top\">8.289400292173632</td>\n",
              "        <td style=\"padding-left: 1em; padding-right: 1em; text-align: center; vertical-align: top\">0.046954761925470656</td>\n",
              "    </tr>\n",
              "</table>\n",
              "<table frame=\"box\" rules=\"cols\">\n",
              "    <tr>\n",
              "        <th style=\"padding-left: 1em; padding-right: 1em; text-align: center\">y</th>\n",
              "    </tr>\n",
              "    <tr>\n",
              "        <td style=\"padding-left: 1em; padding-right: 1em; text-align: center; vertical-align: top\">276.4163333897636</td>\n",
              "    </tr>\n",
              "    <tr>\n",
              "        <td style=\"padding-left: 1em; padding-right: 1em; text-align: center; vertical-align: top\">298.1956379387116</td>\n",
              "    </tr>\n",
              "    <tr>\n",
              "        <td style=\"padding-left: 1em; padding-right: 1em; text-align: center; vertical-align: top\">286.53977557192593</td>\n",
              "    </tr>\n",
              "    <tr>\n",
              "        <td style=\"padding-left: 1em; padding-right: 1em; text-align: center; vertical-align: top\">267.46935054324166</td>\n",
              "    </tr>\n",
              "    <tr>\n",
              "        <td style=\"padding-left: 1em; padding-right: 1em; text-align: center; vertical-align: top\">161.26634314033967</td>\n",
              "    </tr>\n",
              "    <tr>\n",
              "        <td style=\"padding-left: 1em; padding-right: 1em; text-align: center; vertical-align: top\">172.15067117352655</td>\n",
              "    </tr>\n",
              "    <tr>\n",
              "        <td style=\"padding-left: 1em; padding-right: 1em; text-align: center; vertical-align: top\">179.68528710252676</td>\n",
              "    </tr>\n",
              "    <tr>\n",
              "        <td style=\"padding-left: 1em; padding-right: 1em; text-align: center; vertical-align: top\">199.99739352852322</td>\n",
              "    </tr>\n",
              "    <tr>\n",
              "        <td style=\"padding-left: 1em; padding-right: 1em; text-align: center; vertical-align: top\">239.93775894144358</td>\n",
              "    </tr>\n",
              "    <tr>\n",
              "        <td style=\"padding-left: 1em; padding-right: 1em; text-align: center; vertical-align: top\">184.75531266003765</td>\n",
              "    </tr>\n",
              "</table>\n",
              "[1000 rows x 11 columns]<br/>Note: Only the head of the SFrame is printed.<br/>You can use print_rows(num_rows=m, num_columns=n) to print more rows and columns.\n",
              "</div>"
            ],
            "text/plain": [
              "Columns:\n",
              "\tx1\tfloat\n",
              "\tx2\tfloat\n",
              "\tx3\tfloat\n",
              "\tx4\tfloat\n",
              "\tx5\tfloat\n",
              "\tx6\tfloat\n",
              "\tx7\tfloat\n",
              "\tx8\tfloat\n",
              "\tx9\tfloat\n",
              "\tx10\tfloat\n",
              "\ty\tfloat\n",
              "\n",
              "Rows: 1000\n",
              "\n",
              "Data:\n",
              "+--------------------+--------------------+--------------------+\n",
              "|         x1         |         x2         |         x3         |\n",
              "+--------------------+--------------------+--------------------+\n",
              "| 5.4881350392732475 | 7.151893663724195  | 6.027633760716439  |\n",
              "| 7.917250380826646  | 5.288949197529044  | 5.680445610939323  |\n",
              "|  9.78618342232764  | 7.9915856421672355 | 4.6147936225293185 |\n",
              "|  2.64555612104627  | 7.742336894342166  | 4.5615033221654855 |\n",
              "|  3.59507900573786  | 4.3703195379934145 | 6.976311959272649  |\n",
              "| 5.701967704178797  | 4.386015134623204  | 9.883738380592263  |\n",
              "| 1.5896958364551972 | 1.1037514116430513 | 6.563295894652734  |\n",
              "| 9.764594650133958  | 4.686512016477016  | 9.767610881903371  |\n",
              "| 3.1798317939397602 |  4.1426299451467   | 0.6414749634878436 |\n",
              "| 3.1856895245132364 | 6.674103799636817  | 1.3179786240439217 |\n",
              "+--------------------+--------------------+--------------------+\n",
              "+--------------------+---------------------+---------------------+\n",
              "|         x4         |          x5         |          x6         |\n",
              "+--------------------+---------------------+---------------------+\n",
              "| 5.448831829968968  |  4.236547993389047  |  6.458941130666561  |\n",
              "|  9.25596638292661  |  0.7103605819788694 |  0.8712929970154071 |\n",
              "| 7.805291762864554  |  1.1827442586893322 |  6.399210213275238  |\n",
              "| 5.684339488686485  | 0.18789800436355142 |  6.176354970758771  |\n",
              "| 0.6022547162926983 |  6.667667154456677  |  6.706378696181594  |\n",
              "| 1.0204481074802807 |  2.088767560948347  |  1.6130951788499626 |\n",
              "| 1.381829513486138  |  1.965823616800535  |  3.687251706609641  |\n",
              "|  6.04845519745046  |  7.3926357939830165 | 0.39187792254320675 |\n",
              "| 6.924721193700199  |  5.666014542065751  |  2.653894909394454  |\n",
              "| 7.163272041185655  |  2.894060929472011  |  1.8319136200711683 |\n",
              "+--------------------+---------------------+---------------------+\n",
              "+--------------------+---------------------+--------------------+\n",
              "|         x7         |          x8         |         x9         |\n",
              "+--------------------+---------------------+--------------------+\n",
              "| 4.375872112626925  |  8.917730007820797  | 9.636627605010293  |\n",
              "| 0.2021839744032572 |   8.32619845547938  | 7.781567509498505  |\n",
              "| 1.433532874090464  |  9.446689170495839  | 5.218483217500717  |\n",
              "| 6.120957227224214  |  6.169339968747569  | 9.437480785146242  |\n",
              "| 2.103825610738409  |  1.289262976548533  | 3.1542835092418384 |\n",
              "| 6.531083254653984  |  2.532916025397821  | 4.663107728563062  |\n",
              "| 8.209932298479352  |  0.9710127579306127 | 8.379449074988038  |\n",
              "| 2.828069625764096  |  1.201965612131689  | 2.9614019752214493 |\n",
              "| 5.232480534666997  |  0.9394051075844168 | 5.759464955561793  |\n",
              "| 5.865129348100831  | 0.20107546187493552 | 8.289400292173632  |\n",
              "+--------------------+---------------------+--------------------+\n",
              "+----------------------+--------------------+\n",
              "|         x10          |         y          |\n",
              "+----------------------+--------------------+\n",
              "|  3.8344151882577773  | 276.4163333897636  |\n",
              "|  8.700121482468191   | 298.1956379387116  |\n",
              "|  4.146619399905235   | 286.53977557192593 |\n",
              "|  6.818202991034834   | 267.46935054324166 |\n",
              "|  3.637107709426226   | 161.26634314033967 |\n",
              "|  2.4442559200160274  | 172.15067117352655 |\n",
              "|  0.9609840789396307  | 179.68528710252676 |\n",
              "|  1.1872771895424405  | 199.99739352852322 |\n",
              "|  9.292961975762141   | 239.93775894144358 |\n",
              "| 0.046954761925470656 | 184.75531266003765 |\n",
              "+----------------------+--------------------+\n",
              "[1000 rows x 11 columns]\n",
              "Note: Only the head of the SFrame is printed.\n",
              "You can use print_rows(num_rows=m, num_columns=n) to print more rows and columns."
            ]
          },
          "metadata": {},
          "execution_count": 24
        }
      ]
    },
    {
      "cell_type": "code",
      "metadata": {
        "colab": {
          "base_uri": "https://localhost:8080/",
          "height": 238
        },
        "id": "wiMlGA2UKJBd",
        "outputId": "4eff570b-1117-4833-a798-69fed271cc60"
      },
      "source": [
        "train, test = data.random_split(0.8, seed=0)\n",
        "\n",
        "linear_model = tc.linear_regression.create(train,target='y',validation_set=None)"
      ],
      "execution_count": null,
      "outputs": [
        {
          "output_type": "display_data",
          "data": {
            "text/html": [
              "<pre>Linear regression:</pre>"
            ],
            "text/plain": [
              "Linear regression:"
            ]
          },
          "metadata": {}
        },
        {
          "output_type": "display_data",
          "data": {
            "text/html": [
              "<pre>--------------------------------------------------------</pre>"
            ],
            "text/plain": [
              "--------------------------------------------------------"
            ]
          },
          "metadata": {}
        },
        {
          "output_type": "display_data",
          "data": {
            "text/html": [
              "<pre>Number of examples          : 797</pre>"
            ],
            "text/plain": [
              "Number of examples          : 797"
            ]
          },
          "metadata": {}
        },
        {
          "output_type": "display_data",
          "data": {
            "text/html": [
              "<pre>Number of features          : 10</pre>"
            ],
            "text/plain": [
              "Number of features          : 10"
            ]
          },
          "metadata": {}
        },
        {
          "output_type": "display_data",
          "data": {
            "text/html": [
              "<pre>Number of unpacked features : 10</pre>"
            ],
            "text/plain": [
              "Number of unpacked features : 10"
            ]
          },
          "metadata": {}
        },
        {
          "output_type": "display_data",
          "data": {
            "text/html": [
              "<pre>Number of coefficients    : 11</pre>"
            ],
            "text/plain": [
              "Number of coefficients    : 11"
            ]
          },
          "metadata": {}
        },
        {
          "output_type": "display_data",
          "data": {
            "text/html": [
              "<pre>Starting Newton Method</pre>"
            ],
            "text/plain": [
              "Starting Newton Method"
            ]
          },
          "metadata": {}
        },
        {
          "output_type": "display_data",
          "data": {
            "text/html": [
              "<pre>--------------------------------------------------------</pre>"
            ],
            "text/plain": [
              "--------------------------------------------------------"
            ]
          },
          "metadata": {}
        },
        {
          "output_type": "display_data",
          "data": {
            "text/html": [
              "<pre>+-----------+----------+--------------+--------------------+---------------------------------+</pre>"
            ],
            "text/plain": [
              "+-----------+----------+--------------+--------------------+---------------------------------+"
            ]
          },
          "metadata": {}
        },
        {
          "output_type": "display_data",
          "data": {
            "text/html": [
              "<pre>| Iteration | Passes   | Elapsed Time | Training Max Error | Training Root-Mean-Square Error |</pre>"
            ],
            "text/plain": [
              "| Iteration | Passes   | Elapsed Time | Training Max Error | Training Root-Mean-Square Error |"
            ]
          },
          "metadata": {}
        },
        {
          "output_type": "display_data",
          "data": {
            "text/html": [
              "<pre>+-----------+----------+--------------+--------------------+---------------------------------+</pre>"
            ],
            "text/plain": [
              "+-----------+----------+--------------+--------------------+---------------------------------+"
            ]
          },
          "metadata": {}
        },
        {
          "output_type": "display_data",
          "data": {
            "text/html": [
              "<pre>| 1         | 2        | 0.002064     | 55.481836          | 12.728472                       |</pre>"
            ],
            "text/plain": [
              "| 1         | 2        | 0.002064     | 55.481836          | 12.728472                       |"
            ]
          },
          "metadata": {}
        },
        {
          "output_type": "display_data",
          "data": {
            "text/html": [
              "<pre>+-----------+----------+--------------+--------------------+---------------------------------+</pre>"
            ],
            "text/plain": [
              "+-----------+----------+--------------+--------------------+---------------------------------+"
            ]
          },
          "metadata": {}
        }
      ]
    },
    {
      "cell_type": "code",
      "metadata": {
        "colab": {
          "base_uri": "https://localhost:8080/",
          "height": 462
        },
        "id": "nx8RtsRVLPk3",
        "outputId": "ec3b6b87-44a1-4c59-9313-7bd172e5d5e1"
      },
      "source": [
        "linear_model.coefficients.print_rows(11,4)"
      ],
      "execution_count": null,
      "outputs": [
        {
          "output_type": "display_data",
          "data": {
            "text/html": [
              "<pre>--------------------------------------------------------</pre>"
            ],
            "text/plain": [
              "--------------------------------------------------------"
            ]
          },
          "metadata": {}
        },
        {
          "output_type": "display_data",
          "data": {
            "text/html": [
              "<pre>+-----------+----------+--------------+--------------------+----------------------+---------------------------------+-----------------------------------+</pre>"
            ],
            "text/plain": [
              "+-----------+----------+--------------+--------------------+----------------------+---------------------------------+-----------------------------------+"
            ]
          },
          "metadata": {}
        },
        {
          "output_type": "display_data",
          "data": {
            "text/html": [
              "<pre>| Iteration | Passes   | Elapsed Time | Training Max Error | Validation Max Error | Training Root-Mean-Square Error | Validation Root-Mean-Square Error |</pre>"
            ],
            "text/plain": [
              "| Iteration | Passes   | Elapsed Time | Training Max Error | Validation Max Error | Training Root-Mean-Square Error | Validation Root-Mean-Square Error |"
            ]
          },
          "metadata": {}
        },
        {
          "output_type": "display_data",
          "data": {
            "text/html": [
              "<pre>+-----------+----------+--------------+--------------------+----------------------+---------------------------------+-----------------------------------+</pre>"
            ],
            "text/plain": [
              "+-----------+----------+--------------+--------------------+----------------------+---------------------------------+-----------------------------------+"
            ]
          },
          "metadata": {}
        },
        {
          "output_type": "display_data",
          "data": {
            "text/html": [
              "<pre>| 1         | 2        | 0.001199     | 29.817534          | 28.768910            | 9.007331                        | 9.602281                          |</pre>"
            ],
            "text/plain": [
              "| 1         | 2        | 0.001199     | 29.817534          | 28.768910            | 9.007331                        | 9.602281                          |"
            ]
          },
          "metadata": {}
        },
        {
          "output_type": "display_data",
          "data": {
            "text/html": [
              "<pre>+-----------+----------+--------------+--------------------+----------------------+---------------------------------+-----------------------------------+</pre>"
            ],
            "text/plain": [
              "+-----------+----------+--------------+--------------------+----------------------+---------------------------------+-----------------------------------+"
            ]
          },
          "metadata": {}
        },
        {
          "output_type": "display_data",
          "data": {
            "text/html": [
              "<pre>SUCCESS: Optimal solution found.</pre>"
            ],
            "text/plain": [
              "SUCCESS: Optimal solution found."
            ]
          },
          "metadata": {}
        },
        {
          "output_type": "display_data",
          "data": {
            "text/html": [
              "<pre></pre>"
            ],
            "text/plain": [
              ""
            ]
          },
          "metadata": {}
        },
        {
          "output_type": "stream",
          "name": "stdout",
          "text": [
            "+-------------+-------+--------------------+---------------------+\n",
            "|     name    | index |       value        |        stderr       |\n",
            "+-------------+-------+--------------------+---------------------+\n",
            "| (intercept) |  None | 3.010695593425666  |  1.8491557868506556 |\n",
            "|      x1     |  None | 4.197130038605792  | 0.11512485061287664 |\n",
            "|      x2     |  None | 0.9255120029243428 |  0.1151287418243721 |\n",
            "|      x3     |  None | 4.780230903265607  |  0.1182123350782511 |\n",
            "|      x4     |  None | 8.938598596126969  |  0.1133523095487603 |\n",
            "|      x5     |  None | 2.012759941247394  | 0.11177562098229146 |\n",
            "|      x6     |  None | 5.887111998095054  | 0.11756628166928529 |\n",
            "|      x7     |  None | 4.889780994308064  | 0.11881503522414702 |\n",
            "|      x8     |  None | 3.0359673602703996 |  0.1131725976753266 |\n",
            "|      x9     |  None | 4.980904378512788  | 0.10959667641027247 |\n",
            "|     x10     |  None | 7.870597446701043  | 0.11790577113798466 |\n",
            "+-------------+-------+--------------------+---------------------+\n",
            "[11 rows x 4 columns]\n",
            "\n"
          ]
        }
      ]
    },
    {
      "cell_type": "markdown",
      "metadata": {
        "id": "PQSFxmw3MKsf"
      },
      "source": [
        "(b)"
      ]
    },
    {
      "cell_type": "code",
      "metadata": {
        "colab": {
          "base_uri": "https://localhost:8080/",
          "height": 718
        },
        "id": "ZGhgUrIVMMP_",
        "outputId": "099f1e04-66ac-444c-d032-f59bc8338b95"
      },
      "source": [
        "data_x[:,5] = 2*data_x[:,1]-3*data_x[:,2]\n",
        "data_x[:,6] = data_x[:,0] + data_x[:,4] + data_x[:,9]\n",
        "data_y = np.sum(data_x*rdm_w[:,1:], axis=1) + rdm_w[:,0]\n",
        "\n",
        "data['x6'] = data_x[:,5]\n",
        "data['x7'] = data_x[:,6]\n",
        "data['y'] = data_y\n",
        "\n",
        "data"
      ],
      "execution_count": null,
      "outputs": [
        {
          "output_type": "execute_result",
          "data": {
            "text/html": [
              "<div style=\"max-height:1000px;max-width:1500px;overflow:auto;\"><table frame=\"box\" rules=\"cols\">\n",
              "    <tr>\n",
              "        <th style=\"padding-left: 1em; padding-right: 1em; text-align: center\">x1</th>\n",
              "        <th style=\"padding-left: 1em; padding-right: 1em; text-align: center\">x2</th>\n",
              "        <th style=\"padding-left: 1em; padding-right: 1em; text-align: center\">x3</th>\n",
              "        <th style=\"padding-left: 1em; padding-right: 1em; text-align: center\">x4</th>\n",
              "        <th style=\"padding-left: 1em; padding-right: 1em; text-align: center\">x5</th>\n",
              "    </tr>\n",
              "    <tr>\n",
              "        <td style=\"padding-left: 1em; padding-right: 1em; text-align: center; vertical-align: top\">5.4881350392732475</td>\n",
              "        <td style=\"padding-left: 1em; padding-right: 1em; text-align: center; vertical-align: top\">7.151893663724195</td>\n",
              "        <td style=\"padding-left: 1em; padding-right: 1em; text-align: center; vertical-align: top\">6.027633760716439</td>\n",
              "        <td style=\"padding-left: 1em; padding-right: 1em; text-align: center; vertical-align: top\">5.448831829968968</td>\n",
              "        <td style=\"padding-left: 1em; padding-right: 1em; text-align: center; vertical-align: top\">4.236547993389047</td>\n",
              "    </tr>\n",
              "    <tr>\n",
              "        <td style=\"padding-left: 1em; padding-right: 1em; text-align: center; vertical-align: top\">7.917250380826646</td>\n",
              "        <td style=\"padding-left: 1em; padding-right: 1em; text-align: center; vertical-align: top\">5.288949197529044</td>\n",
              "        <td style=\"padding-left: 1em; padding-right: 1em; text-align: center; vertical-align: top\">5.680445610939323</td>\n",
              "        <td style=\"padding-left: 1em; padding-right: 1em; text-align: center; vertical-align: top\">9.25596638292661</td>\n",
              "        <td style=\"padding-left: 1em; padding-right: 1em; text-align: center; vertical-align: top\">0.7103605819788694</td>\n",
              "    </tr>\n",
              "    <tr>\n",
              "        <td style=\"padding-left: 1em; padding-right: 1em; text-align: center; vertical-align: top\">9.78618342232764</td>\n",
              "        <td style=\"padding-left: 1em; padding-right: 1em; text-align: center; vertical-align: top\">7.9915856421672355</td>\n",
              "        <td style=\"padding-left: 1em; padding-right: 1em; text-align: center; vertical-align: top\">4.6147936225293185</td>\n",
              "        <td style=\"padding-left: 1em; padding-right: 1em; text-align: center; vertical-align: top\">7.805291762864554</td>\n",
              "        <td style=\"padding-left: 1em; padding-right: 1em; text-align: center; vertical-align: top\">1.1827442586893322</td>\n",
              "    </tr>\n",
              "    <tr>\n",
              "        <td style=\"padding-left: 1em; padding-right: 1em; text-align: center; vertical-align: top\">2.64555612104627</td>\n",
              "        <td style=\"padding-left: 1em; padding-right: 1em; text-align: center; vertical-align: top\">7.742336894342166</td>\n",
              "        <td style=\"padding-left: 1em; padding-right: 1em; text-align: center; vertical-align: top\">4.5615033221654855</td>\n",
              "        <td style=\"padding-left: 1em; padding-right: 1em; text-align: center; vertical-align: top\">5.684339488686485</td>\n",
              "        <td style=\"padding-left: 1em; padding-right: 1em; text-align: center; vertical-align: top\">0.18789800436355142</td>\n",
              "    </tr>\n",
              "    <tr>\n",
              "        <td style=\"padding-left: 1em; padding-right: 1em; text-align: center; vertical-align: top\">3.59507900573786</td>\n",
              "        <td style=\"padding-left: 1em; padding-right: 1em; text-align: center; vertical-align: top\">4.3703195379934145</td>\n",
              "        <td style=\"padding-left: 1em; padding-right: 1em; text-align: center; vertical-align: top\">6.976311959272649</td>\n",
              "        <td style=\"padding-left: 1em; padding-right: 1em; text-align: center; vertical-align: top\">0.6022547162926983</td>\n",
              "        <td style=\"padding-left: 1em; padding-right: 1em; text-align: center; vertical-align: top\">6.667667154456677</td>\n",
              "    </tr>\n",
              "    <tr>\n",
              "        <td style=\"padding-left: 1em; padding-right: 1em; text-align: center; vertical-align: top\">5.701967704178797</td>\n",
              "        <td style=\"padding-left: 1em; padding-right: 1em; text-align: center; vertical-align: top\">4.386015134623204</td>\n",
              "        <td style=\"padding-left: 1em; padding-right: 1em; text-align: center; vertical-align: top\">9.883738380592263</td>\n",
              "        <td style=\"padding-left: 1em; padding-right: 1em; text-align: center; vertical-align: top\">1.0204481074802807</td>\n",
              "        <td style=\"padding-left: 1em; padding-right: 1em; text-align: center; vertical-align: top\">2.088767560948347</td>\n",
              "    </tr>\n",
              "    <tr>\n",
              "        <td style=\"padding-left: 1em; padding-right: 1em; text-align: center; vertical-align: top\">1.5896958364551972</td>\n",
              "        <td style=\"padding-left: 1em; padding-right: 1em; text-align: center; vertical-align: top\">1.1037514116430513</td>\n",
              "        <td style=\"padding-left: 1em; padding-right: 1em; text-align: center; vertical-align: top\">6.563295894652734</td>\n",
              "        <td style=\"padding-left: 1em; padding-right: 1em; text-align: center; vertical-align: top\">1.381829513486138</td>\n",
              "        <td style=\"padding-left: 1em; padding-right: 1em; text-align: center; vertical-align: top\">1.965823616800535</td>\n",
              "    </tr>\n",
              "    <tr>\n",
              "        <td style=\"padding-left: 1em; padding-right: 1em; text-align: center; vertical-align: top\">9.764594650133958</td>\n",
              "        <td style=\"padding-left: 1em; padding-right: 1em; text-align: center; vertical-align: top\">4.686512016477016</td>\n",
              "        <td style=\"padding-left: 1em; padding-right: 1em; text-align: center; vertical-align: top\">9.767610881903371</td>\n",
              "        <td style=\"padding-left: 1em; padding-right: 1em; text-align: center; vertical-align: top\">6.04845519745046</td>\n",
              "        <td style=\"padding-left: 1em; padding-right: 1em; text-align: center; vertical-align: top\">7.3926357939830165</td>\n",
              "    </tr>\n",
              "    <tr>\n",
              "        <td style=\"padding-left: 1em; padding-right: 1em; text-align: center; vertical-align: top\">3.1798317939397602</td>\n",
              "        <td style=\"padding-left: 1em; padding-right: 1em; text-align: center; vertical-align: top\">4.1426299451467</td>\n",
              "        <td style=\"padding-left: 1em; padding-right: 1em; text-align: center; vertical-align: top\">0.6414749634878436</td>\n",
              "        <td style=\"padding-left: 1em; padding-right: 1em; text-align: center; vertical-align: top\">6.924721193700199</td>\n",
              "        <td style=\"padding-left: 1em; padding-right: 1em; text-align: center; vertical-align: top\">5.666014542065751</td>\n",
              "    </tr>\n",
              "    <tr>\n",
              "        <td style=\"padding-left: 1em; padding-right: 1em; text-align: center; vertical-align: top\">3.1856895245132364</td>\n",
              "        <td style=\"padding-left: 1em; padding-right: 1em; text-align: center; vertical-align: top\">6.674103799636817</td>\n",
              "        <td style=\"padding-left: 1em; padding-right: 1em; text-align: center; vertical-align: top\">1.3179786240439217</td>\n",
              "        <td style=\"padding-left: 1em; padding-right: 1em; text-align: center; vertical-align: top\">7.163272041185655</td>\n",
              "        <td style=\"padding-left: 1em; padding-right: 1em; text-align: center; vertical-align: top\">2.894060929472011</td>\n",
              "    </tr>\n",
              "</table>\n",
              "<table frame=\"box\" rules=\"cols\">\n",
              "    <tr>\n",
              "        <th style=\"padding-left: 1em; padding-right: 1em; text-align: center\">x6</th>\n",
              "        <th style=\"padding-left: 1em; padding-right: 1em; text-align: center\">x7</th>\n",
              "        <th style=\"padding-left: 1em; padding-right: 1em; text-align: center\">x8</th>\n",
              "        <th style=\"padding-left: 1em; padding-right: 1em; text-align: center\">x9</th>\n",
              "        <th style=\"padding-left: 1em; padding-right: 1em; text-align: center\">x10</th>\n",
              "    </tr>\n",
              "    <tr>\n",
              "        <td style=\"padding-left: 1em; padding-right: 1em; text-align: center; vertical-align: top\">-3.779113954700925</td>\n",
              "        <td style=\"padding-left: 1em; padding-right: 1em; text-align: center; vertical-align: top\">13.559098220920072</td>\n",
              "        <td style=\"padding-left: 1em; padding-right: 1em; text-align: center; vertical-align: top\">8.917730007820797</td>\n",
              "        <td style=\"padding-left: 1em; padding-right: 1em; text-align: center; vertical-align: top\">9.636627605010293</td>\n",
              "        <td style=\"padding-left: 1em; padding-right: 1em; text-align: center; vertical-align: top\">3.8344151882577773</td>\n",
              "    </tr>\n",
              "    <tr>\n",
              "        <td style=\"padding-left: 1em; padding-right: 1em; text-align: center; vertical-align: top\">-6.46343843775988</td>\n",
              "        <td style=\"padding-left: 1em; padding-right: 1em; text-align: center; vertical-align: top\">17.327732445273707</td>\n",
              "        <td style=\"padding-left: 1em; padding-right: 1em; text-align: center; vertical-align: top\">8.32619845547938</td>\n",
              "        <td style=\"padding-left: 1em; padding-right: 1em; text-align: center; vertical-align: top\">7.781567509498505</td>\n",
              "        <td style=\"padding-left: 1em; padding-right: 1em; text-align: center; vertical-align: top\">8.700121482468191</td>\n",
              "    </tr>\n",
              "    <tr>\n",
              "        <td style=\"padding-left: 1em; padding-right: 1em; text-align: center; vertical-align: top\">2.1387904167465166</td>\n",
              "        <td style=\"padding-left: 1em; padding-right: 1em; text-align: center; vertical-align: top\">15.115547080922209</td>\n",
              "        <td style=\"padding-left: 1em; padding-right: 1em; text-align: center; vertical-align: top\">9.446689170495839</td>\n",
              "        <td style=\"padding-left: 1em; padding-right: 1em; text-align: center; vertical-align: top\">5.218483217500717</td>\n",
              "        <td style=\"padding-left: 1em; padding-right: 1em; text-align: center; vertical-align: top\">4.146619399905235</td>\n",
              "    </tr>\n",
              "    <tr>\n",
              "        <td style=\"padding-left: 1em; padding-right: 1em; text-align: center; vertical-align: top\">1.8001638221878764</td>\n",
              "        <td style=\"padding-left: 1em; padding-right: 1em; text-align: center; vertical-align: top\">9.651657116444655</td>\n",
              "        <td style=\"padding-left: 1em; padding-right: 1em; text-align: center; vertical-align: top\">6.169339968747569</td>\n",
              "        <td style=\"padding-left: 1em; padding-right: 1em; text-align: center; vertical-align: top\">9.437480785146242</td>\n",
              "        <td style=\"padding-left: 1em; padding-right: 1em; text-align: center; vertical-align: top\">6.818202991034834</td>\n",
              "    </tr>\n",
              "    <tr>\n",
              "        <td style=\"padding-left: 1em; padding-right: 1em; text-align: center; vertical-align: top\">-12.188296801831116</td>\n",
              "        <td style=\"padding-left: 1em; padding-right: 1em; text-align: center; vertical-align: top\">13.899853869620763</td>\n",
              "        <td style=\"padding-left: 1em; padding-right: 1em; text-align: center; vertical-align: top\">1.289262976548533</td>\n",
              "        <td style=\"padding-left: 1em; padding-right: 1em; text-align: center; vertical-align: top\">3.1542835092418384</td>\n",
              "        <td style=\"padding-left: 1em; padding-right: 1em; text-align: center; vertical-align: top\">3.637107709426226</td>\n",
              "    </tr>\n",
              "    <tr>\n",
              "        <td style=\"padding-left: 1em; padding-right: 1em; text-align: center; vertical-align: top\">-20.87918487253038</td>\n",
              "        <td style=\"padding-left: 1em; padding-right: 1em; text-align: center; vertical-align: top\">10.234991185143171</td>\n",
              "        <td style=\"padding-left: 1em; padding-right: 1em; text-align: center; vertical-align: top\">2.532916025397821</td>\n",
              "        <td style=\"padding-left: 1em; padding-right: 1em; text-align: center; vertical-align: top\">4.663107728563062</td>\n",
              "        <td style=\"padding-left: 1em; padding-right: 1em; text-align: center; vertical-align: top\">2.4442559200160274</td>\n",
              "    </tr>\n",
              "    <tr>\n",
              "        <td style=\"padding-left: 1em; padding-right: 1em; text-align: center; vertical-align: top\">-17.482384860672102</td>\n",
              "        <td style=\"padding-left: 1em; padding-right: 1em; text-align: center; vertical-align: top\">4.516503532195363</td>\n",
              "        <td style=\"padding-left: 1em; padding-right: 1em; text-align: center; vertical-align: top\">0.9710127579306127</td>\n",
              "        <td style=\"padding-left: 1em; padding-right: 1em; text-align: center; vertical-align: top\">8.379449074988038</td>\n",
              "        <td style=\"padding-left: 1em; padding-right: 1em; text-align: center; vertical-align: top\">0.9609840789396307</td>\n",
              "    </tr>\n",
              "    <tr>\n",
              "        <td style=\"padding-left: 1em; padding-right: 1em; text-align: center; vertical-align: top\">-19.92980861275608</td>\n",
              "        <td style=\"padding-left: 1em; padding-right: 1em; text-align: center; vertical-align: top\">18.34450763365942</td>\n",
              "        <td style=\"padding-left: 1em; padding-right: 1em; text-align: center; vertical-align: top\">1.201965612131689</td>\n",
              "        <td style=\"padding-left: 1em; padding-right: 1em; text-align: center; vertical-align: top\">2.9614019752214493</td>\n",
              "        <td style=\"padding-left: 1em; padding-right: 1em; text-align: center; vertical-align: top\">1.1872771895424405</td>\n",
              "    </tr>\n",
              "    <tr>\n",
              "        <td style=\"padding-left: 1em; padding-right: 1em; text-align: center; vertical-align: top\">6.360834999829869</td>\n",
              "        <td style=\"padding-left: 1em; padding-right: 1em; text-align: center; vertical-align: top\">18.138808311767654</td>\n",
              "        <td style=\"padding-left: 1em; padding-right: 1em; text-align: center; vertical-align: top\">0.9394051075844168</td>\n",
              "        <td style=\"padding-left: 1em; padding-right: 1em; text-align: center; vertical-align: top\">5.759464955561793</td>\n",
              "        <td style=\"padding-left: 1em; padding-right: 1em; text-align: center; vertical-align: top\">9.292961975762141</td>\n",
              "    </tr>\n",
              "    <tr>\n",
              "        <td style=\"padding-left: 1em; padding-right: 1em; text-align: center; vertical-align: top\">9.394271727141868</td>\n",
              "        <td style=\"padding-left: 1em; padding-right: 1em; text-align: center; vertical-align: top\">6.126705215910718</td>\n",
              "        <td style=\"padding-left: 1em; padding-right: 1em; text-align: center; vertical-align: top\">0.20107546187493552</td>\n",
              "        <td style=\"padding-left: 1em; padding-right: 1em; text-align: center; vertical-align: top\">8.289400292173632</td>\n",
              "        <td style=\"padding-left: 1em; padding-right: 1em; text-align: center; vertical-align: top\">0.046954761925470656</td>\n",
              "    </tr>\n",
              "</table>\n",
              "<table frame=\"box\" rules=\"cols\">\n",
              "    <tr>\n",
              "        <th style=\"padding-left: 1em; padding-right: 1em; text-align: center\">y</th>\n",
              "    </tr>\n",
              "    <tr>\n",
              "        <td style=\"padding-left: 1em; padding-right: 1em; text-align: center; vertical-align: top\">255.6546448067883</td>\n",
              "    </tr>\n",
              "    <tr>\n",
              "        <td style=\"padding-left: 1em; padding-right: 1em; text-align: center; vertical-align: top\">346.3733296742553</td>\n",
              "    </tr>\n",
              "    <tr>\n",
              "        <td style=\"padding-left: 1em; padding-right: 1em; text-align: center; vertical-align: top\">330.81639176274507</td>\n",
              "    </tr>\n",
              "    <tr>\n",
              "        <td style=\"padding-left: 1em; padding-right: 1em; text-align: center; vertical-align: top\">255.22219668439442</td>\n",
              "    </tr>\n",
              "    <tr>\n",
              "        <td style=\"padding-left: 1em; padding-right: 1em; text-align: center; vertical-align: top\">106.75877325301099</td>\n",
              "    </tr>\n",
              "    <tr>\n",
              "        <td style=\"padding-left: 1em; padding-right: 1em; text-align: center; vertical-align: top\">53.66574175097252</td>\n",
              "    </tr>\n",
              "    <tr>\n",
              "        <td style=\"padding-left: 1em; padding-right: 1em; text-align: center; vertical-align: top\">52.6284296234555</td>\n",
              "    </tr>\n",
              "    <tr>\n",
              "        <td style=\"padding-left: 1em; padding-right: 1em; text-align: center; vertical-align: top\">171.38549975355465</td>\n",
              "    </tr>\n",
              "    <tr>\n",
              "        <td style=\"padding-left: 1em; padding-right: 1em; text-align: center; vertical-align: top\">324.35972399493863</td>\n",
              "    </tr>\n",
              "    <tr>\n",
              "        <td style=\"padding-left: 1em; padding-right: 1em; text-align: center; vertical-align: top\">234.1628016212917</td>\n",
              "    </tr>\n",
              "</table>\n",
              "[1000 rows x 11 columns]<br/>Note: Only the head of the SFrame is printed.<br/>You can use print_rows(num_rows=m, num_columns=n) to print more rows and columns.\n",
              "</div>"
            ],
            "text/plain": [
              "Columns:\n",
              "\tx1\tfloat\n",
              "\tx2\tfloat\n",
              "\tx3\tfloat\n",
              "\tx4\tfloat\n",
              "\tx5\tfloat\n",
              "\tx6\tfloat\n",
              "\tx7\tfloat\n",
              "\tx8\tfloat\n",
              "\tx9\tfloat\n",
              "\tx10\tfloat\n",
              "\ty\tfloat\n",
              "\n",
              "Rows: 1000\n",
              "\n",
              "Data:\n",
              "+--------------------+--------------------+--------------------+\n",
              "|         x1         |         x2         |         x3         |\n",
              "+--------------------+--------------------+--------------------+\n",
              "| 5.4881350392732475 | 7.151893663724195  | 6.027633760716439  |\n",
              "| 7.917250380826646  | 5.288949197529044  | 5.680445610939323  |\n",
              "|  9.78618342232764  | 7.9915856421672355 | 4.6147936225293185 |\n",
              "|  2.64555612104627  | 7.742336894342166  | 4.5615033221654855 |\n",
              "|  3.59507900573786  | 4.3703195379934145 | 6.976311959272649  |\n",
              "| 5.701967704178797  | 4.386015134623204  | 9.883738380592263  |\n",
              "| 1.5896958364551972 | 1.1037514116430513 | 6.563295894652734  |\n",
              "| 9.764594650133958  | 4.686512016477016  | 9.767610881903371  |\n",
              "| 3.1798317939397602 |  4.1426299451467   | 0.6414749634878436 |\n",
              "| 3.1856895245132364 | 6.674103799636817  | 1.3179786240439217 |\n",
              "+--------------------+--------------------+--------------------+\n",
              "+--------------------+---------------------+---------------------+\n",
              "|         x4         |          x5         |          x6         |\n",
              "+--------------------+---------------------+---------------------+\n",
              "| 5.448831829968968  |  4.236547993389047  |  -3.779113954700925 |\n",
              "|  9.25596638292661  |  0.7103605819788694 |  -6.46343843775988  |\n",
              "| 7.805291762864554  |  1.1827442586893322 |  2.1387904167465166 |\n",
              "| 5.684339488686485  | 0.18789800436355142 |  1.8001638221878764 |\n",
              "| 0.6022547162926983 |  6.667667154456677  | -12.188296801831116 |\n",
              "| 1.0204481074802807 |  2.088767560948347  |  -20.87918487253038 |\n",
              "| 1.381829513486138  |  1.965823616800535  | -17.482384860672102 |\n",
              "|  6.04845519745046  |  7.3926357939830165 |  -19.92980861275608 |\n",
              "| 6.924721193700199  |  5.666014542065751  |  6.360834999829869  |\n",
              "| 7.163272041185655  |  2.894060929472011  |  9.394271727141868  |\n",
              "+--------------------+---------------------+---------------------+\n",
              "+--------------------+---------------------+--------------------+\n",
              "|         x7         |          x8         |         x9         |\n",
              "+--------------------+---------------------+--------------------+\n",
              "| 13.559098220920072 |  8.917730007820797  | 9.636627605010293  |\n",
              "| 17.327732445273707 |   8.32619845547938  | 7.781567509498505  |\n",
              "| 15.115547080922209 |  9.446689170495839  | 5.218483217500717  |\n",
              "| 9.651657116444655  |  6.169339968747569  | 9.437480785146242  |\n",
              "| 13.899853869620763 |  1.289262976548533  | 3.1542835092418384 |\n",
              "| 10.234991185143171 |  2.532916025397821  | 4.663107728563062  |\n",
              "| 4.516503532195363  |  0.9710127579306127 | 8.379449074988038  |\n",
              "| 18.34450763365942  |  1.201965612131689  | 2.9614019752214493 |\n",
              "| 18.138808311767654 |  0.9394051075844168 | 5.759464955561793  |\n",
              "| 6.126705215910718  | 0.20107546187493552 | 8.289400292173632  |\n",
              "+--------------------+---------------------+--------------------+\n",
              "+----------------------+--------------------+\n",
              "|         x10          |         y          |\n",
              "+----------------------+--------------------+\n",
              "|  3.8344151882577773  | 255.6546448067883  |\n",
              "|  8.700121482468191   | 346.3733296742553  |\n",
              "|  4.146619399905235   | 330.81639176274507 |\n",
              "|  6.818202991034834   | 255.22219668439442 |\n",
              "|  3.637107709426226   | 106.75877325301099 |\n",
              "|  2.4442559200160274  | 53.66574175097252  |\n",
              "|  0.9609840789396307  |  52.6284296234555  |\n",
              "|  1.1872771895424405  | 171.38549975355465 |\n",
              "|  9.292961975762141   | 324.35972399493863 |\n",
              "| 0.046954761925470656 | 234.1628016212917  |\n",
              "+----------------------+--------------------+\n",
              "[1000 rows x 11 columns]\n",
              "Note: Only the head of the SFrame is printed.\n",
              "You can use print_rows(num_rows=m, num_columns=n) to print more rows and columns."
            ]
          },
          "metadata": {},
          "execution_count": 27
        }
      ]
    },
    {
      "cell_type": "code",
      "metadata": {
        "colab": {
          "base_uri": "https://localhost:8080/",
          "height": 255
        },
        "id": "D4vGI2XNPo74",
        "outputId": "01535fdf-b79e-4343-e3f2-aebe6922e414"
      },
      "source": [
        "train, test = data.random_split(0.8,seed=0)\n",
        "\n",
        "mse_rdg_model = tc.linear_regression.create(train,target='y',l2_penalty=1, validation_set=None)"
      ],
      "execution_count": null,
      "outputs": [
        {
          "output_type": "display_data",
          "data": {
            "text/html": [
              "<pre>Linear regression:</pre>"
            ],
            "text/plain": [
              "Linear regression:"
            ]
          },
          "metadata": {}
        },
        {
          "output_type": "display_data",
          "data": {
            "text/html": [
              "<pre>--------------------------------------------------------</pre>"
            ],
            "text/plain": [
              "--------------------------------------------------------"
            ]
          },
          "metadata": {}
        },
        {
          "output_type": "display_data",
          "data": {
            "text/html": [
              "<pre>Number of examples          : 797</pre>"
            ],
            "text/plain": [
              "Number of examples          : 797"
            ]
          },
          "metadata": {}
        },
        {
          "output_type": "display_data",
          "data": {
            "text/html": [
              "<pre>Number of features          : 10</pre>"
            ],
            "text/plain": [
              "Number of features          : 10"
            ]
          },
          "metadata": {}
        },
        {
          "output_type": "display_data",
          "data": {
            "text/html": [
              "<pre>Number of unpacked features : 10</pre>"
            ],
            "text/plain": [
              "Number of unpacked features : 10"
            ]
          },
          "metadata": {}
        },
        {
          "output_type": "display_data",
          "data": {
            "text/html": [
              "<pre>Number of coefficients    : 11</pre>"
            ],
            "text/plain": [
              "Number of coefficients    : 11"
            ]
          },
          "metadata": {}
        },
        {
          "output_type": "display_data",
          "data": {
            "text/html": [
              "<pre>Starting Newton Method</pre>"
            ],
            "text/plain": [
              "Starting Newton Method"
            ]
          },
          "metadata": {}
        },
        {
          "output_type": "display_data",
          "data": {
            "text/html": [
              "<pre>--------------------------------------------------------</pre>"
            ],
            "text/plain": [
              "--------------------------------------------------------"
            ]
          },
          "metadata": {}
        },
        {
          "output_type": "display_data",
          "data": {
            "text/html": [
              "<pre>+-----------+----------+--------------+--------------------+---------------------------------+</pre>"
            ],
            "text/plain": [
              "+-----------+----------+--------------+--------------------+---------------------------------+"
            ]
          },
          "metadata": {}
        },
        {
          "output_type": "display_data",
          "data": {
            "text/html": [
              "<pre>| Iteration | Passes   | Elapsed Time | Training Max Error | Training Root-Mean-Square Error |</pre>"
            ],
            "text/plain": [
              "| Iteration | Passes   | Elapsed Time | Training Max Error | Training Root-Mean-Square Error |"
            ]
          },
          "metadata": {}
        },
        {
          "output_type": "display_data",
          "data": {
            "text/html": [
              "<pre>+-----------+----------+--------------+--------------------+---------------------------------+</pre>"
            ],
            "text/plain": [
              "+-----------+----------+--------------+--------------------+---------------------------------+"
            ]
          },
          "metadata": {}
        },
        {
          "output_type": "display_data",
          "data": {
            "text/html": [
              "<pre>| 1         | 2        | 0.001741     | 55.455002          | 12.730944                       |</pre>"
            ],
            "text/plain": [
              "| 1         | 2        | 0.001741     | 55.455002          | 12.730944                       |"
            ]
          },
          "metadata": {}
        },
        {
          "output_type": "display_data",
          "data": {
            "text/html": [
              "<pre>+-----------+----------+--------------+--------------------+---------------------------------+</pre>"
            ],
            "text/plain": [
              "+-----------+----------+--------------+--------------------+---------------------------------+"
            ]
          },
          "metadata": {}
        },
        {
          "output_type": "display_data",
          "data": {
            "text/html": [
              "<pre>SUCCESS: Optimal solution found.</pre>"
            ],
            "text/plain": [
              "SUCCESS: Optimal solution found."
            ]
          },
          "metadata": {}
        },
        {
          "output_type": "display_data",
          "data": {
            "text/html": [
              "<pre></pre>"
            ],
            "text/plain": [
              ""
            ]
          },
          "metadata": {}
        }
      ]
    },
    {
      "cell_type": "code",
      "metadata": {
        "colab": {
          "base_uri": "https://localhost:8080/"
        },
        "id": "HrIx8ZQ-RI5B",
        "outputId": "c7509c77-e6ef-4853-cb90-09bf4a78da48"
      },
      "source": [
        "mse_rdg_model.coefficients.print_rows(11,4)"
      ],
      "execution_count": null,
      "outputs": [
        {
          "output_type": "stream",
          "name": "stdout",
          "text": [
            "+-------------+-------+---------------------+---------------------+\n",
            "|     name    | index |        value        |        stderr       |\n",
            "+-------------+-------+---------------------+---------------------+\n",
            "| (intercept) |  None |  2.210096459407406  |  2.2648713600568264 |\n",
            "|      x1     |  None |  6.295612507123252  |         nan         |\n",
            "|      x2     |  None |  5.354013341409169  |  1909114.4287179173 |\n",
            "|      x3     |  None | -1.8976387644502701 |  2853995.0742543754 |\n",
            "|      x4     |  None |   8.95272784799756  | 0.15545078313797292 |\n",
            "|      x5     |  None |   4.31472382100411  |         nan         |\n",
            "|      x6     |  None |  3.720063599267736  |  959623.1936049967  |\n",
            "|      x7     |  None |  2.756067891318464  |         nan         |\n",
            "|      x8     |  None |  2.9589773046162007 | 0.15557675937970616 |\n",
            "|      x9     |  None |  5.104398273266794  | 0.15065405289124703 |\n",
            "|     x10     |  None |  10.08110958228602  |         nan         |\n",
            "+-------------+-------+---------------------+---------------------+\n",
            "[11 rows x 4 columns]\n",
            "\n"
          ]
        }
      ]
    },
    {
      "cell_type": "markdown",
      "metadata": {
        "id": "5BSGat7fRl1L"
      },
      "source": [
        "x1, x2, x3, x5, x6, x7, x10 은 다른 feature 와 interdependent 하기 때문에, 학습한 parameter를 보면 정확히 학습하지 못했음을 알 수 있다.  \n",
        "반대로 x4, x8, x9 는 각각 9, 3, 5 와 유사한 값으로 정확히 학습했음을 알 수 있다."
      ]
    },
    {
      "cell_type": "markdown",
      "metadata": {
        "id": "41jipWGmSTLm"
      },
      "source": [
        "[2]  \n",
        "gradient decent method 를 사용하고 있다.  \n",
        "\n",
        "coefficient 에 해당되는 price_per_room의 식을 살펴보면, `lr*x*(y-y')` 인데, 이는 MSE Loss 의 gradient 인 `2*(y-y')*(-x)`에 `lr/2` 를 곱한 후 뺀(decent) 식과 동일함을 알 수 있다. 따라서 featured의 coefficient 를 업데이트 할 때 Gradient Decent Method 를 사용했음을 알 수 있다.  \n",
        "\n",
        "마찬가지로, bias 에 해당하는 base_price의 식을 살펴보면, `lr*(y-y')` 인데, 역시 동일한 gradient 식에 x=1 을 대입한 `2*(y-y')*(-1)` 에 `lr/2` 를 곱한 후 뺀 형태임을 알 수 있다."
      ]
    },
    {
      "cell_type": "markdown",
      "metadata": {
        "id": "MOGKK88FWVmN"
      },
      "source": [
        "[3]  \n",
        "(a)  \n",
        "ML2 와 ML1 의 varience 는 거의 같다고 볼 수 있다. 하지만 ML2가 ML1보다 데이터들과 거리가 있다. 다시말해서, ML2 의 bias가 ML1 보다 크기 때문에, ML1의 모델이 데이터를 더 잘 표현한다고 볼 수 있다."
      ]
    },
    {
      "cell_type": "markdown",
      "metadata": {
        "id": "NmG7myUCXWbi"
      },
      "source": [
        "(b)  \n",
        "해당 모델이 logistic classifier 일 경우 ML1의 도식은 ML2와 같이 모두 정확히 분류했지만, probability 또는 likelihood 가 ML2에 비해 떨어진다고 해석된다. Logistic classifier 의 objective는 정확히 분류하는것과 함께, 각 데이터 포인트의 likelihood 를 높이는 것이기 때문에, ML2의 모델이 더 잘 학습하였다고 볼 수 있다."
      ]
    },
    {
      "cell_type": "markdown",
      "metadata": {
        "id": "EcRSmRw1Z6QB"
      },
      "source": [
        "[4]  \n",
        "각 셀에 한글 주석으로 썼습니다."
      ]
    },
    {
      "cell_type": "code",
      "metadata": {
        "colab": {
          "base_uri": "https://localhost:8080/",
          "height": 394
        },
        "id": "OTrOuHf1Z8Hw",
        "outputId": "33c54669-4d7c-4ae6-af2b-a86820690a5a"
      },
      "source": [
        "# Load the data\n",
        "# 예시에서 주어진 데이터셋이 제공되지 않아 코랩에서 제공되는 csv 파일중 일부를 읽어 사용함\n",
        "data = tc.SFrame.read_csv('/content/sample_data/mnist_train_small.csv',verbose=False,header=False, nrows=6000)\n",
        "\n",
        "# Make a train-test split\n",
        "# 성능 테스트를 위해 4:1 로 랜덤 분리\n",
        "train_data, test_data = data.random_split(0.8)\n",
        "\n",
        "# Create a model\n",
        "# 타겟이 'label'에서 'X1' 으로 명칭만 변경\n",
        "model = tc.logistic_classifier.create(train_data, target='X1')\n",
        "\n",
        "# Save predictions to an SFrame (class and corresponding class-probabilities)\n",
        "predictions = model.classify(test_data)\n",
        "\n",
        "# Top 5 predictions with probabilities, rank, and margin\n",
        "# 각각 probability, margin, rank 기준으로 가장 높은 예측들을 클래스당 5개씩 선출\n",
        "top = model.predict_topk(test_data, output_type='probability', k = 5)\n",
        "top = model.predict_topk(test_data, output_type='rank', k = 5)\n",
        "top = model.predict_topk(test_data, output_type='margin', k = 5)\n",
        "\n",
        "# Evaluate the model and save the results into a dictionary\n",
        "results = model.evaluate(test_data)"
      ],
      "execution_count": null,
      "outputs": [
        {
          "output_type": "stream",
          "name": "stdout",
          "text": [
            "PROGRESS: Creating a validation set from 5 percent of training data. This may take a while.\n",
            "          You can set ``validation_set=None`` to disable validation tracking.\n",
            "\n"
          ]
        },
        {
          "output_type": "display_data",
          "data": {
            "text/html": [
              "<pre>Logistic regression:</pre>"
            ],
            "text/plain": [
              "Logistic regression:"
            ]
          },
          "metadata": {}
        },
        {
          "output_type": "display_data",
          "data": {
            "text/html": [
              "<pre>--------------------------------------------------------</pre>"
            ],
            "text/plain": [
              "--------------------------------------------------------"
            ]
          },
          "metadata": {}
        },
        {
          "output_type": "display_data",
          "data": {
            "text/html": [
              "<pre>Number of examples          : 4609</pre>"
            ],
            "text/plain": [
              "Number of examples          : 4609"
            ]
          },
          "metadata": {}
        },
        {
          "output_type": "display_data",
          "data": {
            "text/html": [
              "<pre>Number of classes           : 10</pre>"
            ],
            "text/plain": [
              "Number of classes           : 10"
            ]
          },
          "metadata": {}
        },
        {
          "output_type": "display_data",
          "data": {
            "text/html": [
              "<pre>Number of feature columns   : 784</pre>"
            ],
            "text/plain": [
              "Number of feature columns   : 784"
            ]
          },
          "metadata": {}
        },
        {
          "output_type": "display_data",
          "data": {
            "text/html": [
              "<pre>Number of unpacked features : 784</pre>"
            ],
            "text/plain": [
              "Number of unpacked features : 784"
            ]
          },
          "metadata": {}
        },
        {
          "output_type": "display_data",
          "data": {
            "text/html": [
              "<pre>Number of coefficients      : 7065</pre>"
            ],
            "text/plain": [
              "Number of coefficients      : 7065"
            ]
          },
          "metadata": {}
        },
        {
          "output_type": "display_data",
          "data": {
            "text/html": [
              "<pre>Starting L-BFGS</pre>"
            ],
            "text/plain": [
              "Starting L-BFGS"
            ]
          },
          "metadata": {}
        },
        {
          "output_type": "display_data",
          "data": {
            "text/html": [
              "<pre>--------------------------------------------------------</pre>"
            ],
            "text/plain": [
              "--------------------------------------------------------"
            ]
          },
          "metadata": {}
        },
        {
          "output_type": "display_data",
          "data": {
            "text/html": [
              "<pre>+-----------+----------+-----------+--------------+-------------------+---------------------+</pre>"
            ],
            "text/plain": [
              "+-----------+----------+-----------+--------------+-------------------+---------------------+"
            ]
          },
          "metadata": {}
        },
        {
          "output_type": "display_data",
          "data": {
            "text/html": [
              "<pre>| Iteration | Passes   | Step size | Elapsed Time | Training Accuracy | Validation Accuracy |</pre>"
            ],
            "text/plain": [
              "| Iteration | Passes   | Step size | Elapsed Time | Training Accuracy | Validation Accuracy |"
            ]
          },
          "metadata": {}
        },
        {
          "output_type": "display_data",
          "data": {
            "text/html": [
              "<pre>+-----------+----------+-----------+--------------+-------------------+---------------------+</pre>"
            ],
            "text/plain": [
              "+-----------+----------+-----------+--------------+-------------------+---------------------+"
            ]
          },
          "metadata": {}
        },
        {
          "output_type": "display_data",
          "data": {
            "text/html": [
              "<pre>| 0         | 2        | 1.000000  | 0.228869     | 0.598394          | 0.567901            |</pre>"
            ],
            "text/plain": [
              "| 0         | 2        | 1.000000  | 0.228869     | 0.598394          | 0.567901            |"
            ]
          },
          "metadata": {}
        },
        {
          "output_type": "display_data",
          "data": {
            "text/html": [
              "<pre>| 1         | 4        | 1.000000  | 0.473406     | 0.698199          | 0.629630            |</pre>"
            ],
            "text/plain": [
              "| 1         | 4        | 1.000000  | 0.473406     | 0.698199          | 0.629630            |"
            ]
          },
          "metadata": {}
        },
        {
          "output_type": "display_data",
          "data": {
            "text/html": [
              "<pre>| 2         | 6        | 1.000000  | 0.710131     | 0.770449          | 0.707819            |</pre>"
            ],
            "text/plain": [
              "| 2         | 6        | 1.000000  | 0.710131     | 0.770449          | 0.707819            |"
            ]
          },
          "metadata": {}
        },
        {
          "output_type": "display_data",
          "data": {
            "text/html": [
              "<pre>| 3         | 7        | 1.000000  | 0.864831     | 0.824040          | 0.786008            |</pre>"
            ],
            "text/plain": [
              "| 3         | 7        | 1.000000  | 0.864831     | 0.824040          | 0.786008            |"
            ]
          },
          "metadata": {}
        },
        {
          "output_type": "display_data",
          "data": {
            "text/html": [
              "<pre>| 4         | 8        | 1.000000  | 1.022095     | 0.848340          | 0.827160            |</pre>"
            ],
            "text/plain": [
              "| 4         | 8        | 1.000000  | 1.022095     | 0.848340          | 0.827160            |"
            ]
          },
          "metadata": {}
        },
        {
          "output_type": "display_data",
          "data": {
            "text/html": [
              "<pre>| 9         | 14       | 1.000000  | 1.872326     | 0.910176          | 0.864198            |</pre>"
            ],
            "text/plain": [
              "| 9         | 14       | 1.000000  | 1.872326     | 0.910176          | 0.864198            |"
            ]
          },
          "metadata": {}
        },
        {
          "output_type": "display_data",
          "data": {
            "text/html": [
              "<pre>+-----------+----------+-----------+--------------+-------------------+---------------------+</pre>"
            ],
            "text/plain": [
              "+-----------+----------+-----------+--------------+-------------------+---------------------+"
            ]
          },
          "metadata": {}
        }
      ]
    },
    {
      "cell_type": "code",
      "metadata": {
        "colab": {
          "base_uri": "https://localhost:8080/"
        },
        "id": "2IraMfu_aCot",
        "outputId": "a89865b7-e1c6-439e-f7ff-64698ed07193"
      },
      "source": [
        "# 각 id 별로 probability 가 가장 높은 3개씩 출력\n",
        "top = model.predict_topk(test_data, output_type='probability', k = 3)\n",
        "print(top)"
      ],
      "execution_count": null,
      "outputs": [
        {
          "output_type": "stream",
          "name": "stdout",
          "text": [
            "+----+-------+------------------------+\n",
            "| id | class |      probability       |\n",
            "+----+-------+------------------------+\n",
            "| 0  |   0   |  0.022992141979427116  |\n",
            "| 0  |   5   |   0.9679952463309917   |\n",
            "| 0  |   8   |  0.005357014770763095  |\n",
            "| 1  |   9   |  0.005261713822534874  |\n",
            "| 1  |   7   |   0.9947368877787186   |\n",
            "| 1  |   0   | 1.0677536830261403e-06 |\n",
            "| 2  |   8   |   0.0863351196203465   |\n",
            "| 2  |   6   |   0.8527001945754997   |\n",
            "| 2  |   1   |  0.016217452027680667  |\n",
            "| 3  |   3   |  0.12664238310684092   |\n",
            "+----+-------+------------------------+\n",
            "[3450 rows x 3 columns]\n",
            "Note: Only the head of the SFrame is printed.\n",
            "You can use print_rows(num_rows=m, num_columns=n) to print more rows and columns.\n"
          ]
        }
      ]
    }
  ]
}